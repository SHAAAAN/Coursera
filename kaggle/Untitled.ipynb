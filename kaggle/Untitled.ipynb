{
 "cells": [
  {
   "cell_type": "code",
   "execution_count": 17,
   "metadata": {},
   "outputs": [],
   "source": [
    "import pandas as pd\n",
    "import matplotlib\n",
    "import matplotlib.pyplot as plt\n",
    "import seaborn as sns\n",
    "import numpy as np\n",
    "from nltk.corpus import stopwords\n",
    "from nltk.util import ngrams\n",
    "from sklearn.preprocessing import LabelEncoder\n",
    "from sklearn.feature_extraction.text import CountVectorizer\n",
    "from collections import defaultdict\n",
    "from collections import  Counter"
   ]
  },
  {
   "cell_type": "code",
   "execution_count": 2,
   "metadata": {},
   "outputs": [
    {
     "name": "stderr",
     "output_type": "stream",
     "text": [
      "[nltk_data] Downloading package stopwords to /Users/mac/nltk_data...\n",
      "[nltk_data]   Package stopwords is already up-to-date!\n",
      "Using TensorFlow backend.\n"
     ]
    }
   ],
   "source": [
    "plt.style.use('ggplot')\n",
    "import nltk\n",
    "nltk.download('stopwords')\n",
    "stop=set(stopwords.words('english'))\n",
    "import re\n",
    "from nltk.tokenize import word_tokenize\n",
    "import gensim\n",
    "import string\n",
    "from tqdm import tqdm\n",
    "from tensorflow.keras import backend\n",
    "from keras.preprocessing.text import Tokenizer\n",
    "from keras.preprocessing.sequence import pad_sequences\n",
    "from keras.models import Sequential\n",
    "from keras.layers import Embedding,LSTM,Dense,SpatialDropout1D\n",
    "from keras.initializers import Constant\n",
    "from sklearn.model_selection import train_test_split\n",
    "from keras.optimizers import Adam"
   ]
  },
  {
   "cell_type": "code",
   "execution_count": 3,
   "metadata": {},
   "outputs": [],
   "source": [
    "## ADD STOPWORDS\n",
    "stop = set(list(stop) + [\"http\",\"https\", \"s\", \"nt\", \"m\"])"
   ]
  },
  {
   "cell_type": "code",
   "execution_count": 5,
   "metadata": {},
   "outputs": [
    {
     "data": {
      "text/html": [
       "<div>\n",
       "<style scoped>\n",
       "    .dataframe tbody tr th:only-of-type {\n",
       "        vertical-align: middle;\n",
       "    }\n",
       "\n",
       "    .dataframe tbody tr th {\n",
       "        vertical-align: top;\n",
       "    }\n",
       "\n",
       "    .dataframe thead th {\n",
       "        text-align: right;\n",
       "    }\n",
       "</style>\n",
       "<table border=\"1\" class=\"dataframe\">\n",
       "  <thead>\n",
       "    <tr style=\"text-align: right;\">\n",
       "      <th></th>\n",
       "      <th>id</th>\n",
       "      <th>keyword</th>\n",
       "      <th>location</th>\n",
       "      <th>text</th>\n",
       "      <th>target</th>\n",
       "    </tr>\n",
       "  </thead>\n",
       "  <tbody>\n",
       "    <tr>\n",
       "      <td>0</td>\n",
       "      <td>1</td>\n",
       "      <td>NaN</td>\n",
       "      <td>NaN</td>\n",
       "      <td>Our Deeds are the Reason of this #earthquake M...</td>\n",
       "      <td>1</td>\n",
       "    </tr>\n",
       "    <tr>\n",
       "      <td>1</td>\n",
       "      <td>4</td>\n",
       "      <td>NaN</td>\n",
       "      <td>NaN</td>\n",
       "      <td>Forest fire near La Ronge Sask. Canada</td>\n",
       "      <td>1</td>\n",
       "    </tr>\n",
       "    <tr>\n",
       "      <td>2</td>\n",
       "      <td>5</td>\n",
       "      <td>NaN</td>\n",
       "      <td>NaN</td>\n",
       "      <td>All residents asked to 'shelter in place' are ...</td>\n",
       "      <td>1</td>\n",
       "    </tr>\n",
       "    <tr>\n",
       "      <td>3</td>\n",
       "      <td>6</td>\n",
       "      <td>NaN</td>\n",
       "      <td>NaN</td>\n",
       "      <td>13,000 people receive #wildfires evacuation or...</td>\n",
       "      <td>1</td>\n",
       "    </tr>\n",
       "    <tr>\n",
       "      <td>4</td>\n",
       "      <td>7</td>\n",
       "      <td>NaN</td>\n",
       "      <td>NaN</td>\n",
       "      <td>Just got sent this photo from Ruby #Alaska as ...</td>\n",
       "      <td>1</td>\n",
       "    </tr>\n",
       "    <tr>\n",
       "      <td>5</td>\n",
       "      <td>8</td>\n",
       "      <td>NaN</td>\n",
       "      <td>NaN</td>\n",
       "      <td>#RockyFire Update =&gt; California Hwy. 20 closed...</td>\n",
       "      <td>1</td>\n",
       "    </tr>\n",
       "    <tr>\n",
       "      <td>6</td>\n",
       "      <td>10</td>\n",
       "      <td>NaN</td>\n",
       "      <td>NaN</td>\n",
       "      <td>#flood #disaster Heavy rain causes flash flood...</td>\n",
       "      <td>1</td>\n",
       "    </tr>\n",
       "    <tr>\n",
       "      <td>7</td>\n",
       "      <td>13</td>\n",
       "      <td>NaN</td>\n",
       "      <td>NaN</td>\n",
       "      <td>I'm on top of the hill and I can see a fire in...</td>\n",
       "      <td>1</td>\n",
       "    </tr>\n",
       "    <tr>\n",
       "      <td>8</td>\n",
       "      <td>14</td>\n",
       "      <td>NaN</td>\n",
       "      <td>NaN</td>\n",
       "      <td>There's an emergency evacuation happening now ...</td>\n",
       "      <td>1</td>\n",
       "    </tr>\n",
       "    <tr>\n",
       "      <td>9</td>\n",
       "      <td>15</td>\n",
       "      <td>NaN</td>\n",
       "      <td>NaN</td>\n",
       "      <td>I'm afraid that the tornado is coming to our a...</td>\n",
       "      <td>1</td>\n",
       "    </tr>\n",
       "  </tbody>\n",
       "</table>\n",
       "</div>"
      ],
      "text/plain": [
       "   id keyword location                                               text  \\\n",
       "0   1     NaN      NaN  Our Deeds are the Reason of this #earthquake M...   \n",
       "1   4     NaN      NaN             Forest fire near La Ronge Sask. Canada   \n",
       "2   5     NaN      NaN  All residents asked to 'shelter in place' are ...   \n",
       "3   6     NaN      NaN  13,000 people receive #wildfires evacuation or...   \n",
       "4   7     NaN      NaN  Just got sent this photo from Ruby #Alaska as ...   \n",
       "5   8     NaN      NaN  #RockyFire Update => California Hwy. 20 closed...   \n",
       "6  10     NaN      NaN  #flood #disaster Heavy rain causes flash flood...   \n",
       "7  13     NaN      NaN  I'm on top of the hill and I can see a fire in...   \n",
       "8  14     NaN      NaN  There's an emergency evacuation happening now ...   \n",
       "9  15     NaN      NaN  I'm afraid that the tornado is coming to our a...   \n",
       "\n",
       "   target  \n",
       "0       1  \n",
       "1       1  \n",
       "2       1  \n",
       "3       1  \n",
       "4       1  \n",
       "5       1  \n",
       "6       1  \n",
       "7       1  \n",
       "8       1  \n",
       "9       1  "
      ]
     },
     "execution_count": 5,
     "metadata": {},
     "output_type": "execute_result"
    }
   ],
   "source": [
    "df=pd.read_csv(\"train.csv\")\n",
    "df[0:10]"
   ]
  },
  {
   "cell_type": "markdown",
   "metadata": {},
   "source": [
    "## data analysis"
   ]
  },
  {
   "cell_type": "markdown",
   "metadata": {},
   "source": [
    "1.General dataset infos   \n",
    "\n",
    "    1).Number of samples\n",
    "    2).Data Columns\n",
    "    3).Class Label Distributiom\n",
    "    \n",
    "2.Text analysis\n",
    "\n",
    "    1).Number of characters in tweets\n",
    "    2).Number of words in a tweet\n",
    "    3).Average word lenght in a tweet\n",
    "    4).Word distribution\n",
    "    5).Hashtag Analysis\n",
    "    6).KW and Location Analysis"
   ]
  },
  {
   "cell_type": "markdown",
   "metadata": {},
   "source": [
    "### General dataset information¶\n",
    "Here we show the number of samples, the input data columns and the class label distributiom"
   ]
  },
  {
   "cell_type": "code",
   "execution_count": 9,
   "metadata": {},
   "outputs": [
    {
     "name": "stdout",
     "output_type": "stream",
     "text": [
      "-Number of samples: 7613\n",
      "-Input data columns: Index(['id', 'keyword', 'location', 'text', 'target'], dtype='object')\n",
      "-Class label distribution\n",
      "--Number of positive samples: 3271\n",
      "--Number of negative samples: 4342\n"
     ]
    }
   ],
   "source": [
    "print(\"-Number of samples: {}\".format(len(df)))\n",
    "print(\"-Input data columns: {}\".format(df.columns))\n",
    "print(\"-Class label distribution\")\n",
    "print(\"--Number of positive samples: {}\".format(len(df.loc[df['target'] == 1])))\n",
    "print(\"--Number of negative samples: {}\".format(len(df.loc[df['target'] == 0])))"
   ]
  },
  {
   "cell_type": "code",
   "execution_count": 10,
   "metadata": {},
   "outputs": [
    {
     "name": "stdout",
     "output_type": "stream",
     "text": [
      "--Plot of Y distributions\n"
     ]
    },
    {
     "data": {
      "image/png": "[encoded data removed]",
      "text/plain": [
       "<Figure size 432x288 with 1 Axes>"
      ]
     },
     "metadata": {},
     "output_type": "display_data"
    }
   ],
   "source": [
    "print(\"--Plot of Y distributions\")\n",
    "x=df.target.value_counts()\n",
    "sns.barplot(x.index,x)\n",
    "plt.gca().set_ylabel('samples')\n",
    "\n",
    "def plot_hist_classes(to_plot, _header):\n",
    "    fig,(ax1,ax2)=plt.subplots(1,2,figsize=(10,5))\n",
    "    df_len = to_plot(1)\n",
    "    ax1.hist(df_len,color='red')\n",
    "    ax1.set_title('Negative Tweets [disasters]')\n",
    "    df_len = to_plot(0)\n",
    "    ax2.hist(df_len,color='green')\n",
    "    ax2.set_title('Positive Tweets [good posts]')\n",
    "    fig.suptitle(_header)\n",
    "    plt.show()\n",
    "    plt.close()"
   ]
  },
  {
   "cell_type": "markdown",
   "metadata": {},
   "source": [
    "### Text analysis\n",
    "Insights on number of character and words in tweets, word lenght distribution, and word distribution."
   ]
  },
  {
   "cell_type": "code",
   "execution_count": 11,
   "metadata": {},
   "outputs": [
    {
     "name": "stdout",
     "output_type": "stream",
     "text": [
      "-Number of characters in tweets\n"
     ]
    },
    {
     "data": {
      "image/png": "[encoded data removed]",
      "text/plain": [
       "<Figure size 720x360 with 2 Axes>"
      ]
     },
     "metadata": {},
     "output_type": "display_data"
    }
   ],
   "source": [
    "print(\"-Number of characters in tweets\")\n",
    "def to_plot(_target):\n",
    "    return df[df['target']==_target]['text'].str.len()\n",
    "\n",
    "    \n",
    "plot_hist_classes(to_plot, _header='Characters Distribution in Tweets')"
   ]
  },
  {
   "cell_type": "code",
   "execution_count": 14,
   "metadata": {},
   "outputs": [
    {
     "name": "stdout",
     "output_type": "stream",
     "text": [
      "-Number of words in a tweet\n"
     ]
    },
    {
     "data": {
      "image/png": "[encoded data removed]",
      "text/plain": [
       "<Figure size 720x360 with 2 Axes>"
      ]
     },
     "metadata": {},
     "output_type": "display_data"
    }
   ],
   "source": [
    "print(\"-Number of words in a tweet\")\n",
    "def to_plot(_target):\n",
    "    return df[df['target']==_target]['text'].str.split().map(lambda x: len(x))\n",
    "def how_to_plot(**kwargs):\n",
    "    ax1.hist(df_len,**kwargs)\n",
    "plot_hist_classes(to_plot, _header='Word Distribution in Tweet')"
   ]
  },
  {
   "cell_type": "code",
   "execution_count": 15,
   "metadata": {},
   "outputs": [
    {
     "name": "stdout",
     "output_type": "stream",
     "text": [
      "-Average word lenght in a tweet\n"
     ]
    },
    {
     "data": {
      "image/png": "[encoded data removed]",
      "text/plain": [
       "<Figure size 720x360 with 2 Axes>"
      ]
     },
     "metadata": {},
     "output_type": "display_data"
    }
   ],
   "source": [
    "print(\"-Average word lenght in a tweet\")\n",
    "fig,(ax1,ax2)=plt.subplots(1,2,figsize=(10,5))\n",
    "word=df[df['target']==1]['text'].str.split().apply(lambda x : [len(i) for i in x])\n",
    "sns.distplot(word.map(lambda x: np.mean(x)),ax=ax1,color='red')\n",
    "ax1.set_title('Negative Tweets [disasters]')\n",
    "word=df[df['target']==0]['text'].str.split().apply(lambda x : [len(i) for i in x])\n",
    "sns.distplot(word.map(lambda x: np.mean(x)),ax=ax2,color='green')\n",
    "ax2.set_title('Positive Tweets [good posts]')\n",
    "fig.suptitle('Average word length in each tweet')\n",
    "plt.show()"
   ]
  },
  {
   "cell_type": "code",
   "execution_count": 19,
   "metadata": {},
   "outputs": [
    {
     "name": "stdout",
     "output_type": "stream",
     "text": [
      "-Word distribution\n",
      "-- Positive Class\n",
      "      Frequency\n",
      "Word           \n",
      ":          3676\n",
      "#          1703\n",
      ".          1085\n",
      "@           905\n",
      "?           762\n",
      "...         637\n",
      "-           397\n",
      "!           330\n",
      "'           304\n",
      "'s          276\n",
      "-- Negative Class\n",
      "      Frequency\n",
      "Word           \n",
      ":          3030\n",
      "?          2364\n",
      ".          1882\n",
      "@          1854\n",
      "#          1700\n",
      "!           843\n",
      "'s          515\n",
      "'           432\n",
      "...         426\n",
      "-           388\n"
     ]
    },
    {
     "data": {
      "image/png": "[encoded data removed]",
      "text/plain": [
       "<Figure size 432x288 with 1 Axes>"
      ]
     },
     "metadata": {},
     "output_type": "display_data"
    },
    {
     "data": {
      "image/png": "[encoded data removed]",
      "text/plain": [
       "<Figure size 432x288 with 1 Axes>"
      ]
     },
     "metadata": {},
     "output_type": "display_data"
    }
   ],
   "source": [
    "print(\"-Word distribution\")\n",
    "\n",
    "top_N = 10\n",
    "\n",
    "print(\"-- Positive Class\")\n",
    "\n",
    "def show_word_distrib(target=1, field=\"text\"):\n",
    "    txt = df[df['target']==target][field].str.lower().str.replace(r'\\|', ' ').str.cat(sep=' ')\n",
    "    words = nltk.tokenize.word_tokenize(txt)\n",
    "    words_except_stop_dist = nltk.FreqDist(w for w in words if w not in stop) \n",
    "    \n",
    "    rslt = pd.DataFrame(words_except_stop_dist.most_common(top_N),\n",
    "                        columns=['Word', 'Frequency']).set_index('Word')\n",
    "    print(rslt)\n",
    "    matplotlib.style.use('ggplot')\n",
    "\n",
    "    rslt.plot.bar(rot=0)\n",
    "    \n",
    "show_word_distrib(target=1, field=\"text\")\n",
    "\n",
    "print(\"-- Negative Class\")\n",
    "show_word_distrib(target=0, field=\"text\")"
   ]
  },
  {
   "cell_type": "markdown",
   "metadata": {},
   "source": [
    "### Hashtag analysis\n",
    "Small analysis done on the hashtags, to check it's possible discriminator capability for this task."
   ]
  },
  {
   "cell_type": "code",
   "execution_count": 20,
   "metadata": {},
   "outputs": [
    {
     "name": "stdout",
     "output_type": "stream",
     "text": [
      "-Hashtag Analysis \n"
     ]
    }
   ],
   "source": [
    "print(\"-Hashtag Analysis \")\n",
    "def find_hashtags(tweet):\n",
    "    return \", \".join([match.group(0)[1:] for match in re.finditer(r\"#\\w+\", tweet)]) or None\n",
    "\n",
    "def add_hashtags(df):\n",
    "    from sklearn.feature_extraction.text import CountVectorizer\n",
    "    \n",
    "    df['hashtag'] = df[\"text\"].apply(lambda x: find_hashtags(x))\n",
    "    df['hashtag'].fillna(value=\"no\", inplace=True)\n",
    "    \n",
    "    return df"
   ]
  },
  {
   "cell_type": "code",
   "execution_count": 21,
   "metadata": {},
   "outputs": [
    {
     "name": "stdout",
     "output_type": "stream",
     "text": [
      "-Number of tweets with hashtags: 7613\n",
      "-- Hashtag distribution in positive samples \n",
      "            Frequency\n",
      "Word                 \n",
      ",                 784\n",
      "news               56\n",
      "hiroshima          22\n",
      "earthquake         19\n",
      "hot                13\n",
      "prebreak           13\n",
      "best               13\n",
      "japan              11\n",
      "india              10\n",
      "yyc                10\n",
      "breaking            9\n",
      "worldnews           9\n",
      "world               9\n",
      "isis                9\n",
      "sismo               9\n",
      "abstorm             9\n",
      "islam               9\n",
      "disaster            8\n",
      "wildfire            8\n",
      "terrorism           8\n",
      "-- Hashtag distribution in negative samples \n",
      "              Frequency\n",
      "Word                   \n",
      ",                   803\n",
      "nowplaying           21\n",
      "news                 20\n",
      "hot                  18\n",
      "prebreak             17\n",
      "best                 17\n",
      "gbbo                 14\n",
      "jobs                 14\n",
      "islam                14\n",
      "job                  12\n",
      "hiring               10\n",
      "fashion               9\n",
      "edm                   8\n",
      "dnb                   8\n",
      "beyhive               8\n",
      "directioners          8\n",
      "emmerdale             8\n",
      "rt                    7\n",
      "dubstep               7\n",
      "trapmusic             7\n"
     ]
    },
    {
     "data": {
      "image/png": "[encoded data removed]",
      "text/plain": [
       "<Figure size 432x288 with 1 Axes>"
      ]
     },
     "metadata": {},
     "output_type": "display_data"
    },
    {
     "data": {
      "image/png": "[encoded data removed]",
      "text/plain": [
       "<Figure size 432x288 with 1 Axes>"
      ]
     },
     "metadata": {},
     "output_type": "display_data"
    }
   ],
   "source": [
    "top_N = 20\n",
    "df = add_hashtags(df)\n",
    "_l = len([v for v in df.hashtag.values if isinstance(v, str)])\n",
    "print(\"-Number of tweets with hashtags: {}\".format(_l))\n",
    "print(\"-- Hashtag distribution in positive samples \")\n",
    "show_word_distrib(target=1, field=\"hashtag\")\n",
    "\n",
    "print(\"-- Hashtag distribution in negative samples \")\n",
    "show_word_distrib(target=0, field=\"hashtag\")"
   ]
  },
  {
   "cell_type": "markdown",
   "metadata": {},
   "source": [
    "There is too much intersection between hashtag in positive and negative samples, meaning that a hashtag approach will not work that well."
   ]
  },
  {
   "cell_type": "markdown",
   "metadata": {},
   "source": [
    "### KW and Location analysis"
   ]
  },
  {
   "cell_type": "code",
   "execution_count": 22,
   "metadata": {},
   "outputs": [
    {
     "name": "stdout",
     "output_type": "stream",
     "text": [
      "Unique KW: 221\n",
      "Out of: 7552\n",
      "Samples with no KW: 61\n",
      "Unique LOC: 3341\n",
      "Out of: 5080\n",
      "Samples with no Loc: 2533\n"
     ]
    }
   ],
   "source": [
    "#Remove the encoded space character for keywords, since appears a lot of times and is junk\n",
    "df['keyword'] = df['keyword'].map(lambda s: s.replace('%20', ' ') if isinstance(s, str) else s)\n",
    "\n",
    "un_KW  = {kw for kw in df['keyword' ].values if isinstance(kw, str)}\n",
    "tot_KW = len(df) - len(df[df[\"keyword\" ].isna()])\n",
    "\n",
    "un_LOC = {lc for lc in df['location'].values if isinstance(lc, str)}\n",
    "tot_LOC =  len(df) - len(df[df[\"location\"].isna()])\n",
    "\n",
    "print(\"Unique KW: {}\".format(len(un_KW)))\n",
    "print(\"Out of: {}\".format(tot_KW))\n",
    "print(\"Samples with no KW: {}\".format(len(df[df['keyword'].isna()])))\n",
    "\n",
    "\n",
    "print(\"Unique LOC: {}\".format(len(un_LOC)))\n",
    "print(\"Out of: {}\".format(tot_LOC))\n",
    "print(\"Samples with no Loc: {}\".format(len(df[df['location'].isna()])))"
   ]
  },
  {
   "cell_type": "markdown",
   "metadata": {},
   "source": [
    "LOCATION IS TOO SPARSE TO BE USED."
   ]
  },
  {
   "cell_type": "code",
   "execution_count": 23,
   "metadata": {},
   "outputs": [
    {
     "name": "stdout",
     "output_type": "stream",
     "text": [
      "> KW: fatalities\n",
      "-- # in negative tweets: 26\n",
      "-- # in positive tweets: 19\n",
      "--------\n",
      "> KW: deluge\n",
      "-- # in negative tweets: 6\n",
      "-- # in positive tweets: 36\n",
      "--------\n",
      "> KW: armageddon\n",
      "-- # in negative tweets: 5\n",
      "-- # in positive tweets: 37\n",
      "--------\n",
      "> KW: sinking\n",
      "-- # in negative tweets: 8\n",
      "-- # in positive tweets: 33\n",
      "--------\n",
      "> KW: damage\n",
      "-- # in negative tweets: 19\n",
      "-- # in positive tweets: 22\n",
      "--------\n",
      "> KW: harm\n",
      "-- # in negative tweets: 4\n",
      "-- # in positive tweets: 37\n",
      "--------\n",
      "> KW: body bags\n",
      "-- # in negative tweets: 1\n",
      "-- # in positive tweets: 40\n",
      "--------\n",
      "> KW: windstorm\n",
      "-- # in negative tweets: 16\n",
      "-- # in positive tweets: 24\n",
      "--------\n",
      "> KW: siren\n",
      "-- # in negative tweets: 5\n",
      "-- # in positive tweets: 35\n",
      "--------\n",
      "> KW: evacuate\n",
      "-- # in negative tweets: 25\n",
      "-- # in positive tweets: 15\n",
      "--------\n"
     ]
    }
   ],
   "source": [
    "disaster_keywords = [kw for kw in df.loc[df.target == 1].keyword]\n",
    "regular_keywords = [kw for kw in df.loc[df.target == 0].keyword]\n",
    "\n",
    "disaster_keywords_counts = dict(pd.DataFrame(data={'x': disaster_keywords}).x.value_counts())\n",
    "regular_keywords_counts = dict(pd.DataFrame(data={'x': regular_keywords}).x.value_counts())\n",
    "\n",
    "all_keywords_counts =  dict(pd.DataFrame(data={'x': df.keyword.values}).x.value_counts())\n",
    "\n",
    "# we sort the keywords so the most frequents are on top and we print them with relative\n",
    "# occurrences in both classes of tweets:\n",
    "\n",
    "for keyword, _ in sorted(all_keywords_counts.items(), key=lambda x: x[1], reverse=True)[:10]:\n",
    "    print(\"> KW: {}\".format(keyword))\n",
    "    print(\"-- # in negative tweets: {}\".format(disaster_keywords_counts.get(keyword, 0)))\n",
    "    print(\"-- # in positive tweets: {}\".format(regular_keywords_counts.get(keyword, 0)))\n",
    "    print('--------')"
   ]
  },
  {
   "cell_type": "markdown",
   "metadata": {},
   "source": [
    "Many KWs in negative tweets are also present in positive ones, meaning that a KW approach is most likely to not work\n",
    "\n",
    "The same result was given by the hashtag analysis."
   ]
  },
  {
   "cell_type": "markdown",
   "metadata": {},
   "source": [
    "## Data Cleaning\n",
    "Here we are gonna clean the DF. Specifically, we clean:\n",
    "\n",
    "stopwords (Kept cause removing them cause drop of performances)\n",
    "\n",
    "URL\n",
    "\n",
    "HTML\n",
    "\n",
    "emoji\n",
    "\n",
    "punctuation"
   ]
  },
  {
   "cell_type": "code",
   "execution_count": 26,
   "metadata": {},
   "outputs": [
    {
     "name": "stdout",
     "output_type": "stream",
     "text": [
      "-- Word distrig Positive Class\n",
      "            Frequency\n",
      "Word                 \n",
      "fire              178\n",
      "news              136\n",
      "via               121\n",
      "disaster          117\n",
      "california        111\n",
      "suicide           110\n",
      "police            107\n",
      "amp               106\n",
      "people            105\n",
      "killed             93\n",
      "like               92\n",
      "hiroshima          86\n",
      "storm              85\n",
      "crash              84\n",
      "fires              84\n",
      "us                 81\n",
      "families           81\n",
      "train              79\n",
      "emergency          76\n",
      "buildings          75\n",
      "-- Word distrib Negative Class\n",
      "        Frequency\n",
      "Word             \n",
      "like          253\n",
      "im            243\n",
      "amp           192\n",
      "new           168\n",
      "get           163\n",
      "dont          141\n",
      "one           128\n",
      "body          112\n",
      "via            99\n",
      "would          97\n",
      "video          96\n",
      "got            91\n",
      "people         91\n",
      "love           89\n",
      "2              86\n",
      "know           85\n",
      "back           84\n",
      "time           83\n",
      "us             83\n",
      "see            82\n"
     ]
    },
    {
     "data": {
      "image/png": "[encoded data removed]",
      "text/plain": [
       "<Figure size 432x288 with 1 Axes>"
      ]
     },
     "metadata": {},
     "output_type": "display_data"
    },
    {
     "data": {
      "image/png": "[encoded data removed]",
      "text/plain": [
       "<Figure size 432x288 with 1 Axes>"
      ]
     },
     "metadata": {},
     "output_type": "display_data"
    }
   ],
   "source": [
    "def clean_df(df):\n",
    "    def remove_stopwords(text):\n",
    "        if text is not None:\n",
    "            tokens = [x for x in word_tokenize(text) if x not in stop]\n",
    "            return \" \".join(tokens)\n",
    "        else:\n",
    "            return None\n",
    "        #TMP: TRY TO USE DEFAULT STRING FOR NONE. TODO: USE ROW[\"KEYWORDS\"]\n",
    "        #df['hashtag'] =df['hashtag'].apply(lambda x : \"NO\" if x is None else x)\n",
    "    \n",
    "    df[\"text\"] = df['text'].apply(lambda x : x.lower())\n",
    "    #df[\"hashtag\"] = df['hashtag'].apply(lambda x : x.lower())\n",
    "    \n",
    "    #df['text'] =df['text'].apply(lambda x : remove_stopwords(x))\n",
    "    #df['hashtag'] =df['hashtag'].apply(lambda x : remove_stopwords(x))\n",
    "    \n",
    "    def remove_URL(text):\n",
    "        url = re.compile(r'https?://\\S+|www\\.\\S+')\n",
    "        return url.sub(r'',text)\n",
    "    \n",
    "    df['text']=df['text'].apply(lambda x : remove_URL(x))\n",
    "    def remove_html(text):\n",
    "        html=re.compile(r'<.*?>')\n",
    "        return html.sub(r'',text)\n",
    "\n",
    "    df['text']=df['text'].apply(lambda x : remove_html(x))\n",
    "    # Reference : https://gist.github.com/slowkow/7a7f61f495e3dbb7e3d767f97bd7304b\n",
    "    def remove_emoji(text):\n",
    "        emoji_pattern = re.compile(\"[\"\n",
    "                               u\"\\U0001F600-\\U0001F64F\"  # emoticons\n",
    "                               u\"\\U0001F300-\\U0001F5FF\"  # symbols & pictographs\n",
    "                               u\"\\U0001F680-\\U0001F6FF\"  # transport & map symbols\n",
    "                               u\"\\U0001F1E0-\\U0001F1FF\"  # flags (iOS)\n",
    "                               u\"\\U00002702-\\U000027B0\"\n",
    "                               u\"\\U000024C2-\\U0001F251\"\n",
    "                               \"]+\", flags=re.UNICODE)\n",
    "        return emoji_pattern.sub(r'', text)\n",
    "    \n",
    "    df['text']=df['text'].apply(lambda x: remove_emoji(x))\n",
    "    def remove_punct(text):\n",
    "        table=str.maketrans('','',string.punctuation)\n",
    "        return text.translate(table)\n",
    "\n",
    "    df['text']=df['text'].apply(lambda x : remove_punct(x))\n",
    "    \n",
    "    df.text = df.text.replace('\\s+', ' ', regex=True)\n",
    "    return df\n",
    "\n",
    "df = clean_df(df)\n",
    "print(\"-- Word distrig Positive Class\")\n",
    "\n",
    "show_word_distrib(target=1, field=\"text\")\n",
    "\n",
    "print(\"-- Word distrib Negative Class\")\n",
    "show_word_distrib(target=0, field=\"text\")"
   ]
  },
  {
   "cell_type": "markdown",
   "metadata": {},
   "source": [
    "## Utils for models"
   ]
  },
  {
   "cell_type": "code",
   "execution_count": 27,
   "metadata": {},
   "outputs": [],
   "source": [
    "def read_test(test_path=\"test.csv\"):\n",
    "    \n",
    "    my_df = pd.read_csv(test_path)\n",
    "    \n",
    "    res_df = my_df[['id']]\n",
    "    my_df = my_df[['text']]\n",
    "    \n",
    "    add_hashtags(my_df)\n",
    "    my_df = clean_df(my_df)\n",
    "    print(\"Test DF: {}\".format(my_df.head(10)))\n",
    "    \n",
    "    return my_df, res_df\n",
    "\n",
    "def dump_preds(res_df, preds, out=\"default\"):\n",
    "    res_df['target'] = None\n",
    "    \n",
    "    for i, p in  enumerate(preds):\n",
    "        res_df.ix[i, 'target'] = p\n",
    "    \n",
    "    res_df.to_csv(out, index = False)\n",
    "    \n",
    "def split_data(df, _t=True):\n",
    "    X = df.text\n",
    "    if _t:\n",
    "        Y = df.target\n",
    "        le = LabelEncoder()\n",
    "        Y = le.fit_transform(Y)\n",
    "        Y = Y.reshape(-1,1)\n",
    "        return X, Y\n",
    "    else:\n",
    "        return X"
   ]
  },
  {
   "cell_type": "markdown",
   "metadata": {},
   "source": [
    "### Baseline Models\n",
    "We build a simple majority model and TFIDF + LogReg to check the problem hardness."
   ]
  },
  {
   "cell_type": "code",
   "execution_count": 28,
   "metadata": {},
   "outputs": [
    {
     "data": {
      "text/plain": [
       "'\\nBuild a baseline TFIDF + LOGREG based just on text\\n'"
      ]
     },
     "execution_count": 28,
     "metadata": {},
     "output_type": "execute_result"
    }
   ],
   "source": [
    "from sklearn import model_selection\n",
    "from sklearn.feature_extraction.text import TfidfVectorizer\n",
    "from sklearn.linear_model import LogisticRegression\n",
    "from sklearn.pipeline import Pipeline"
   ]
  },
  {
   "cell_type": "code",
   "execution_count": 29,
   "metadata": {},
   "outputs": [],
   "source": [
    "\"\"\"\n",
    "Build a baseline TFIDF + LOGREG based just on text\n",
    "\"\"\"\n",
    "def build_tfidf_logreg(df):\n",
    "    my_df = df[['text','target']]\n",
    "    x_features = my_df.columns[0]\n",
    "    x_data = my_df[x_features]\n",
    "    Y = my_df[\"target\"]\n",
    "\n",
    "    x_train, x_validation, y_train, y_validation = model_selection.train_test_split(\n",
    "        x_data.values, Y.values, test_size=0.2, random_state=7)\n",
    "    \n",
    "    # configure TfidfVectorizer to accept tokenized data\n",
    "    # reference http://www.davidsbatista.net/blog/2018/02/28/TfidfVectorizer/\n",
    "    tfidf_vectorizer = TfidfVectorizer(\n",
    "        analyzer='word',\n",
    "        tokenizer=lambda x: x,\n",
    "        preprocessor=lambda x: x,\n",
    "        token_pattern=None)\n",
    "\n",
    "    lr = LogisticRegression()\n",
    "    tfidf_lr_pipe = Pipeline([('tfidf', tfidf_vectorizer), ('lr', lr)])\n",
    "    tfidf_lr_pipe.fit(x_train, y_train)\n",
    "    \n",
    "    return tfidf_lr_pipe"
   ]
  },
  {
   "cell_type": "code",
   "execution_count": 30,
   "metadata": {},
   "outputs": [],
   "source": [
    "def test_tfidf_logreg(model, test_path=\"test.csv\"):\n",
    "    \n",
    "    my_df, res_df = read_test(test_path=\"test.csv\")\n",
    "    \n",
    "    #x_features = my_df.columns[0]\n",
    "    x_data = my_df[\"text\"].values\n",
    "\n",
    "    preds = model.predict(x_data)\n",
    "    \n",
    "    #dump_preds(res_df, preds, out=\"res_tfidf_logreg4_0.csv\")\n",
    "    \n",
    "    return res_df"
   ]
  },
  {
   "cell_type": "code",
   "execution_count": 33,
   "metadata": {},
   "outputs": [],
   "source": [
    "\"\"\"\n",
    "Build a majority model\n",
    "\"\"\"\n",
    "def test_majority_model(test_path=\"test.csv\"):\n",
    "    \n",
    "    my_df = pd.read_csv(test_path)\n",
    "    \n",
    "    res = my_df[['id']]\n",
    "    res['target'] = 1\n",
    "    \n",
    "    res.to_csv(\"res_majority.csv\", index = False)\n",
    "    return res"
   ]
  },
  {
   "cell_type": "code",
   "execution_count": 34,
   "metadata": {},
   "outputs": [
    {
     "name": "stderr",
     "output_type": "stream",
     "text": [
      "/Users/mac/anaconda3/lib/python3.6/site-packages/ipykernel_launcher.py:9: SettingWithCopyWarning: \n",
      "A value is trying to be set on a copy of a slice from a DataFrame.\n",
      "Try using .loc[row_indexer,col_indexer] = value instead\n",
      "\n",
      "See the caveats in the documentation: http://pandas.pydata.org/pandas-docs/stable/user_guide/indexing.html#returning-a-view-versus-a-copy\n",
      "  if __name__ == '__main__':\n"
     ]
    },
    {
     "data": {
      "text/html": [
       "<div>\n",
       "<style scoped>\n",
       "    .dataframe tbody tr th:only-of-type {\n",
       "        vertical-align: middle;\n",
       "    }\n",
       "\n",
       "    .dataframe tbody tr th {\n",
       "        vertical-align: top;\n",
       "    }\n",
       "\n",
       "    .dataframe thead th {\n",
       "        text-align: right;\n",
       "    }\n",
       "</style>\n",
       "<table border=\"1\" class=\"dataframe\">\n",
       "  <thead>\n",
       "    <tr style=\"text-align: right;\">\n",
       "      <th></th>\n",
       "      <th>id</th>\n",
       "      <th>target</th>\n",
       "    </tr>\n",
       "  </thead>\n",
       "  <tbody>\n",
       "    <tr>\n",
       "      <td>0</td>\n",
       "      <td>0</td>\n",
       "      <td>1</td>\n",
       "    </tr>\n",
       "    <tr>\n",
       "      <td>1</td>\n",
       "      <td>2</td>\n",
       "      <td>1</td>\n",
       "    </tr>\n",
       "    <tr>\n",
       "      <td>2</td>\n",
       "      <td>3</td>\n",
       "      <td>1</td>\n",
       "    </tr>\n",
       "    <tr>\n",
       "      <td>3</td>\n",
       "      <td>9</td>\n",
       "      <td>1</td>\n",
       "    </tr>\n",
       "    <tr>\n",
       "      <td>4</td>\n",
       "      <td>11</td>\n",
       "      <td>1</td>\n",
       "    </tr>\n",
       "    <tr>\n",
       "      <td>...</td>\n",
       "      <td>...</td>\n",
       "      <td>...</td>\n",
       "    </tr>\n",
       "    <tr>\n",
       "      <td>3258</td>\n",
       "      <td>10861</td>\n",
       "      <td>1</td>\n",
       "    </tr>\n",
       "    <tr>\n",
       "      <td>3259</td>\n",
       "      <td>10865</td>\n",
       "      <td>1</td>\n",
       "    </tr>\n",
       "    <tr>\n",
       "      <td>3260</td>\n",
       "      <td>10868</td>\n",
       "      <td>1</td>\n",
       "    </tr>\n",
       "    <tr>\n",
       "      <td>3261</td>\n",
       "      <td>10874</td>\n",
       "      <td>1</td>\n",
       "    </tr>\n",
       "    <tr>\n",
       "      <td>3262</td>\n",
       "      <td>10875</td>\n",
       "      <td>1</td>\n",
       "    </tr>\n",
       "  </tbody>\n",
       "</table>\n",
       "<p>3263 rows × 2 columns</p>\n",
       "</div>"
      ],
      "text/plain": [
       "         id  target\n",
       "0         0       1\n",
       "1         2       1\n",
       "2         3       1\n",
       "3         9       1\n",
       "4        11       1\n",
       "...     ...     ...\n",
       "3258  10861       1\n",
       "3259  10865       1\n",
       "3260  10868       1\n",
       "3261  10874       1\n",
       "3262  10875       1\n",
       "\n",
       "[3263 rows x 2 columns]"
      ]
     },
     "execution_count": 34,
     "metadata": {},
     "output_type": "execute_result"
    }
   ],
   "source": [
    "test_majority_model()"
   ]
  },
  {
   "cell_type": "code",
   "execution_count": 37,
   "metadata": {},
   "outputs": [
    {
     "name": "stdout",
     "output_type": "stream",
     "text": [
      "Test DF:                                                 text             hashtag\n",
      "0                 just happened a terrible car crash                  no\n",
      "1  heard about earthquake is different cities sta...          earthquake\n",
      "2  there is a forest fire at spot pond geese are ...                  no\n",
      "3              apocalypse lighting spokane wildfires  Spokane, wildfires\n",
      "4      typhoon soudelor kills 28 in china and taiwan                  no\n",
      "5                      were shakingits an earthquake                  no\n",
      "6  theyd probably still show more life than arsen...                  no\n",
      "7                                    hey how are you                  no\n",
      "8                                    what a nice hat                  no\n",
      "9                                           fuck off                  no\n"
     ]
    },
    {
     "name": "stderr",
     "output_type": "stream",
     "text": [
      "/Users/mac/anaconda3/lib/python3.6/site-packages/sklearn/linear_model/logistic.py:432: FutureWarning: Default solver will be changed to 'lbfgs' in 0.22. Specify a solver to silence this warning.\n",
      "  FutureWarning)\n"
     ]
    },
    {
     "data": {
      "text/html": [
       "<div>\n",
       "<style scoped>\n",
       "    .dataframe tbody tr th:only-of-type {\n",
       "        vertical-align: middle;\n",
       "    }\n",
       "\n",
       "    .dataframe tbody tr th {\n",
       "        vertical-align: top;\n",
       "    }\n",
       "\n",
       "    .dataframe thead th {\n",
       "        text-align: right;\n",
       "    }\n",
       "</style>\n",
       "<table border=\"1\" class=\"dataframe\">\n",
       "  <thead>\n",
       "    <tr style=\"text-align: right;\">\n",
       "      <th></th>\n",
       "      <th>id</th>\n",
       "    </tr>\n",
       "  </thead>\n",
       "  <tbody>\n",
       "    <tr>\n",
       "      <td>0</td>\n",
       "      <td>0</td>\n",
       "    </tr>\n",
       "    <tr>\n",
       "      <td>1</td>\n",
       "      <td>2</td>\n",
       "    </tr>\n",
       "    <tr>\n",
       "      <td>2</td>\n",
       "      <td>3</td>\n",
       "    </tr>\n",
       "    <tr>\n",
       "      <td>3</td>\n",
       "      <td>9</td>\n",
       "    </tr>\n",
       "    <tr>\n",
       "      <td>4</td>\n",
       "      <td>11</td>\n",
       "    </tr>\n",
       "    <tr>\n",
       "      <td>...</td>\n",
       "      <td>...</td>\n",
       "    </tr>\n",
       "    <tr>\n",
       "      <td>3258</td>\n",
       "      <td>10861</td>\n",
       "    </tr>\n",
       "    <tr>\n",
       "      <td>3259</td>\n",
       "      <td>10865</td>\n",
       "    </tr>\n",
       "    <tr>\n",
       "      <td>3260</td>\n",
       "      <td>10868</td>\n",
       "    </tr>\n",
       "    <tr>\n",
       "      <td>3261</td>\n",
       "      <td>10874</td>\n",
       "    </tr>\n",
       "    <tr>\n",
       "      <td>3262</td>\n",
       "      <td>10875</td>\n",
       "    </tr>\n",
       "  </tbody>\n",
       "</table>\n",
       "<p>3263 rows × 1 columns</p>\n",
       "</div>"
      ],
      "text/plain": [
       "         id\n",
       "0         0\n",
       "1         2\n",
       "2         3\n",
       "3         9\n",
       "4        11\n",
       "...     ...\n",
       "3258  10861\n",
       "3259  10865\n",
       "3260  10868\n",
       "3261  10874\n",
       "3262  10875\n",
       "\n",
       "[3263 rows x 1 columns]"
      ]
     },
     "execution_count": 37,
     "metadata": {},
     "output_type": "execute_result"
    }
   ],
   "source": [
    "tfidf_log_reg = build_tfidf_logreg(df)\n",
    "test_tfidf_logreg(tfidf_log_reg, test_path=\"test.csv\")"
   ]
  },
  {
   "cell_type": "markdown",
   "metadata": {},
   "source": [
    "## Test RNN Model\n",
    "Here we test a simple LSTM model with Dropout. The experiment does not give better performances w.r.t gradient boosting."
   ]
  },
  {
   "cell_type": "code",
   "execution_count": 38,
   "metadata": {},
   "outputs": [],
   "source": [
    "from sklearn.model_selection import train_test_split\n",
    "from sklearn.preprocessing import LabelEncoder\n",
    "from keras.models import Model\n",
    "from keras.layers import LSTM, Activation, Dense, Dropout, Input, Embedding\n",
    "from keras.optimizers import RMSprop\n",
    "from keras.preprocessing.text import Tokenizer\n",
    "from keras.preprocessing import sequence\n",
    "from keras.utils import to_categorical\n",
    "from keras.callbacks import EarlyStopping\n",
    "%matplotlib inline\n",
    "\n",
    "#Value tuned based on data analysis\n",
    "max_words = 750\n",
    "max_len = 160\n",
    "\n",
    "def process_data(X, tok=None):\n",
    "    if tok is None:\n",
    "        tok = Tokenizer(num_words=max_words)\n",
    "        tok.fit_on_texts(X)\n",
    "    sequences = tok.texts_to_sequences(X)\n",
    "    sequences_matrix = sequence.pad_sequences(sequences,maxlen=max_len)\n",
    "    return sequences_matrix, tok\n",
    "\n",
    "def RNN():\n",
    "    inputs = Input(name='inputs',shape=[max_len])\n",
    "    layer = Embedding(max_words,50,input_length=max_len)(inputs)\n",
    "    layer = LSTM(64)(layer)\n",
    "    layer = Dense(256,name='FC1')(layer)\n",
    "    layer = Activation('relu')(layer)\n",
    "    layer = Dropout(0.5)(layer)\n",
    "    layer = Dense(1,name='out_layer')(layer)\n",
    "    layer = Activation('sigmoid')(layer)\n",
    "    model = Model(inputs=inputs,outputs=layer)\n",
    "    return model"
   ]
  },
  {
   "cell_type": "code",
   "execution_count": 39,
   "metadata": {},
   "outputs": [],
   "source": [
    "def test_model(model, tok=None, test_path=\"test.csv\", cut=0.5):\n",
    "    \n",
    "    my_df, res = read_test(test_path=\"test.csv\")\n",
    "    \n",
    "    X = split_data(my_df, _t=False)\n",
    "    sequences_matrix, tok = process_data(X, tok=tok)\n",
    "    preds = model.predict(sequences_matrix)\n",
    "\n",
    "    normalized_preds = []\n",
    "    for p in preds:\n",
    "        if p >= cut:\n",
    "            normalized_preds.append(1)\n",
    "            \n",
    "        else:\n",
    "            normalized_preds.append(0)\n",
    "    #dump_preds(res, normalized_preds, out=\"res_rnn.csv\")\n",
    "    return res"
   ]
  },
  {
   "cell_type": "code",
   "execution_count": 40,
   "metadata": {},
   "outputs": [],
   "source": [
    "def tune_cutoff(model, tok):\n",
    "    \n",
    "    x_tune = df['text'].values\n",
    "    x_target = df[['target']]\n",
    "    \n",
    "    \n",
    "    X, Y = split_data(df)\n",
    "    sequences_matrix, tok = process_data(X, tok=tok)\n",
    "    preds = model.predict(sequences_matrix)\n",
    "    \n",
    "    x_target[\"preds\"] = preds\n",
    "    \n",
    "    accumulator = 0\n",
    "    _0 = []\n",
    "    max_0 = 0\n",
    "    _1 = []\n",
    "    min_1 = 0\n",
    "    \n",
    "    for i, row in x_target.iterrows():\n",
    "        if row['target'] == 0:\n",
    "            _0.append(row['preds'])\n",
    "            if row['preds'] > max_0:\n",
    "                max_0 = row['preds']\n",
    "        else:\n",
    "            _1.append(row['preds'])\n",
    "            if row['preds'] < min_1:\n",
    "                min_1 = row['preds']\n",
    "\n",
    "    mean_0 = sum(_0)/len(_0)\n",
    "    mean_1 = sum(_1)/len(_1)\n",
    "    return max(mean_0, mean_1)/min(mean_0, mean_1)"
   ]
  },
  {
   "cell_type": "code",
   "execution_count": 41,
   "metadata": {},
   "outputs": [
    {
     "name": "stdout",
     "output_type": "stream",
     "text": [
      "Model: \"model_1\"\n",
      "_________________________________________________________________\n",
      "Layer (type)                 Output Shape              Param #   \n",
      "=================================================================\n",
      "inputs (InputLayer)          (None, 160)               0         \n",
      "_________________________________________________________________\n",
      "embedding_1 (Embedding)      (None, 160, 50)           37500     \n",
      "_________________________________________________________________\n",
      "lstm_1 (LSTM)                (None, 64)                29440     \n",
      "_________________________________________________________________\n",
      "FC1 (Dense)                  (None, 256)               16640     \n",
      "_________________________________________________________________\n",
      "activation_1 (Activation)    (None, 256)               0         \n",
      "_________________________________________________________________\n",
      "dropout_1 (Dropout)          (None, 256)               0         \n",
      "_________________________________________________________________\n",
      "out_layer (Dense)            (None, 1)                 257       \n",
      "_________________________________________________________________\n",
      "activation_2 (Activation)    (None, 1)                 0         \n",
      "=================================================================\n",
      "Total params: 83,837\n",
      "Trainable params: 83,837\n",
      "Non-trainable params: 0\n",
      "_________________________________________________________________\n"
     ]
    },
    {
     "name": "stderr",
     "output_type": "stream",
     "text": [
      "/Users/mac/anaconda3/lib/python3.6/site-packages/tensorflow_core/python/framework/indexed_slices.py:433: UserWarning: Converting sparse IndexedSlices to a dense Tensor of unknown shape. This may consume a large amount of memory.\n",
      "  \"Converting sparse IndexedSlices to a dense Tensor of unknown shape. \"\n"
     ]
    },
    {
     "name": "stdout",
     "output_type": "stream",
     "text": [
      "Train on 6090 samples, validate on 1523 samples\n",
      "Epoch 1/10\n",
      "6090/6090 [==============================] - 7s 1ms/step - loss: 0.6142 - accuracy: 0.6637 - val_loss: 0.5161 - val_accuracy: 0.7610\n",
      "Epoch 2/10\n",
      "6090/6090 [==============================] - 6s 945us/step - loss: 0.4652 - accuracy: 0.7911 - val_loss: 0.4603 - val_accuracy: 0.7807\n",
      "Epoch 3/10\n",
      "6090/6090 [==============================] - 6s 956us/step - loss: 0.4328 - accuracy: 0.8087 - val_loss: 0.4503 - val_accuracy: 0.7951\n",
      "Epoch 4/10\n",
      "6090/6090 [==============================] - 6s 980us/step - loss: 0.4180 - accuracy: 0.8215 - val_loss: 0.4506 - val_accuracy: 0.7892\n"
     ]
    },
    {
     "name": "stderr",
     "output_type": "stream",
     "text": [
      "/Users/mac/anaconda3/lib/python3.6/site-packages/ipykernel_launcher.py:11: SettingWithCopyWarning: \n",
      "A value is trying to be set on a copy of a slice from a DataFrame.\n",
      "Try using .loc[row_indexer,col_indexer] = value instead\n",
      "\n",
      "See the caveats in the documentation: http://pandas.pydata.org/pandas-docs/stable/user_guide/indexing.html#returning-a-view-versus-a-copy\n",
      "  # This is added back by InteractiveShellApp.init_path()\n"
     ]
    },
    {
     "name": "stdout",
     "output_type": "stream",
     "text": [
      "Test DF:                                                 text             hashtag\n",
      "0                 just happened a terrible car crash                  no\n",
      "1  heard about earthquake is different cities sta...          earthquake\n",
      "2  there is a forest fire at spot pond geese are ...                  no\n",
      "3              apocalypse lighting spokane wildfires  Spokane, wildfires\n",
      "4      typhoon soudelor kills 28 in china and taiwan                  no\n",
      "5                      were shakingits an earthquake                  no\n",
      "6  theyd probably still show more life than arsen...                  no\n",
      "7                                    hey how are you                  no\n",
      "8                                    what a nice hat                  no\n",
      "9                                           fuck off                  no\n"
     ]
    },
    {
     "data": {
      "text/html": [
       "<div>\n",
       "<style scoped>\n",
       "    .dataframe tbody tr th:only-of-type {\n",
       "        vertical-align: middle;\n",
       "    }\n",
       "\n",
       "    .dataframe tbody tr th {\n",
       "        vertical-align: top;\n",
       "    }\n",
       "\n",
       "    .dataframe thead th {\n",
       "        text-align: right;\n",
       "    }\n",
       "</style>\n",
       "<table border=\"1\" class=\"dataframe\">\n",
       "  <thead>\n",
       "    <tr style=\"text-align: right;\">\n",
       "      <th></th>\n",
       "      <th>id</th>\n",
       "    </tr>\n",
       "  </thead>\n",
       "  <tbody>\n",
       "    <tr>\n",
       "      <td>0</td>\n",
       "      <td>0</td>\n",
       "    </tr>\n",
       "    <tr>\n",
       "      <td>1</td>\n",
       "      <td>2</td>\n",
       "    </tr>\n",
       "    <tr>\n",
       "      <td>2</td>\n",
       "      <td>3</td>\n",
       "    </tr>\n",
       "    <tr>\n",
       "      <td>3</td>\n",
       "      <td>9</td>\n",
       "    </tr>\n",
       "    <tr>\n",
       "      <td>4</td>\n",
       "      <td>11</td>\n",
       "    </tr>\n",
       "    <tr>\n",
       "      <td>...</td>\n",
       "      <td>...</td>\n",
       "    </tr>\n",
       "    <tr>\n",
       "      <td>3258</td>\n",
       "      <td>10861</td>\n",
       "    </tr>\n",
       "    <tr>\n",
       "      <td>3259</td>\n",
       "      <td>10865</td>\n",
       "    </tr>\n",
       "    <tr>\n",
       "      <td>3260</td>\n",
       "      <td>10868</td>\n",
       "    </tr>\n",
       "    <tr>\n",
       "      <td>3261</td>\n",
       "      <td>10874</td>\n",
       "    </tr>\n",
       "    <tr>\n",
       "      <td>3262</td>\n",
       "      <td>10875</td>\n",
       "    </tr>\n",
       "  </tbody>\n",
       "</table>\n",
       "<p>3263 rows × 1 columns</p>\n",
       "</div>"
      ],
      "text/plain": [
       "         id\n",
       "0         0\n",
       "1         2\n",
       "2         3\n",
       "3         9\n",
       "4        11\n",
       "...     ...\n",
       "3258  10861\n",
       "3259  10865\n",
       "3260  10868\n",
       "3261  10874\n",
       "3262  10875\n",
       "\n",
       "[3263 rows x 1 columns]"
      ]
     },
     "execution_count": 41,
     "metadata": {},
     "output_type": "execute_result"
    }
   ],
   "source": [
    "model = RNN()\n",
    "model.summary()\n",
    "model.compile(loss='binary_crossentropy',optimizer=RMSprop(),metrics=['accuracy'])\n",
    "X, Y = split_data(df)\n",
    "sequences_matrix, tok = process_data(X, tok=None)\n",
    "\n",
    "model.fit(sequences_matrix,Y,batch_size=128,epochs=10,validation_split=0.2,callbacks=[EarlyStopping(monitor='val_loss',min_delta=0.001)])\n",
    "\n",
    "    \n",
    "cut = tune_cutoff(model, tok)\n",
    "\n",
    "test_model(model, tok=tok, cut=cut)"
   ]
  },
  {
   "cell_type": "code",
   "execution_count": null,
   "metadata": {},
   "outputs": [],
   "source": []
  }
 ],
 "metadata": {
  "kernelspec": {
   "display_name": "Python 3",
   "language": "python",
   "name": "python3"
  },
  "language_info": {
   "codemirror_mode": {
    "name": "ipython",
    "version": 3
   },
   "file_extension": ".py",
   "mimetype": "text/x-python",
   "name": "python",
   "nbconvert_exporter": "python",
   "pygments_lexer": "ipython3",
   "version": "3.6.8"
  }
 },
 "nbformat": 4,
 "nbformat_minor": 2
}
